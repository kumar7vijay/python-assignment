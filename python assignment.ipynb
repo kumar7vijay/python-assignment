{
 "cells": [
  {
   "cell_type": "markdown",
   "id": "c4caad03-92f7-4ecf-b7c6-5e3ab3c184e6",
   "metadata": {
    "tags": []
   },
   "source": [
    "## 1.Explain the key features of Python that make it a popular choice for programming?"
   ]
  },
  {
   "cell_type": "markdown",
   "id": "5990a9c2-7562-40b5-8ba6-2f00682a05c4",
   "metadata": {},
   "source": [
    "#### Python's popularity in the programming world features:"
   ]
  },
  {
   "cell_type": "markdown",
   "id": "def863a9-ed1b-4db2-b1c5-bd7f489e4ce5",
   "metadata": {},
   "source": [
    "1. Versatile and General-Purpose: Python is a general-purpose language, which means it can be used for a wide range of applications, from web development to data analysis, artificial intelligence, and automation."
   ]
  },
  {
   "cell_type": "markdown",
   "id": "ab94a950-e2aa-4163-a4ba-817420b0c83a",
   "metadata": {},
   "source": [
    "2. Readability and Simplicity: Python's syntax is clear and easy to read, which makes it accessible for beginners and reduces the cost of program maintenance. Its emphasis on readability helps developers write clean and understandable code."
   ]
  },
  {
   "cell_type": "markdown",
   "id": "f6e6bd1f-0df2-4ba7-b248-373d20a6442a",
   "metadata": {},
   "source": [
    "3. Interpreted Language: Python is an interpreted language, which means code is executed line-by-line. This allows for rapid development and testing, as well as greater flexibility compared to compiled languages."
   ]
  },
  {
   "cell_type": "markdown",
   "id": "beab0a41-def6-4e9c-a229-9a235cd54261",
   "metadata": {},
   "source": [
    "4. Dynamic Typing: Python uses dynamic typing, which means you don’t need to declare the type of a variable explicitly. This can lead to more flexible and faster coding, though it may require more attention to avoid type-related errors."
   ]
  },
  {
   "cell_type": "markdown",
   "id": "70808840-978b-4a0a-97de-c228c40cc395",
   "metadata": {},
   "source": [
    "5. Strong Community Support: Python has a large and active community that contributes to a wealth of resources, including documentation, tutorials, and forums. This community support is invaluable for troubleshooting issues and finding best practices."
   ]
  },
  {
   "cell_type": "markdown",
   "id": "fae02bd5-c5ca-49e4-b37d-ad5925f709e6",
   "metadata": {},
   "source": [
    "6. Large Standard Library: Python comes with a comprehensive standard library that provides modules and functions for various tasks, including file I/O, system calls, and even Internet protocols. This reduces the need to write code from scratch and speeds up development."
   ]
  },
  {
   "cell_type": "markdown",
   "id": "72d1ae42-181f-4c44-9eb8-ba0466951839",
   "metadata": {},
   "source": [
    "These features combine to make Python a versatile, powerful, and user-friendly language, contributing to its widespread adoption across various domains and industries."
   ]
  },
  {
   "cell_type": "markdown",
   "id": "f53e0ec2-20d8-4f2f-a1f8-8752dc6805f2",
   "metadata": {},
   "source": [
    "## 2. Describe the role of predefined keywords in Python and provide examples of how they are used in a program."
   ]
  },
  {
   "cell_type": "markdown",
   "id": "f91b1cef-ef48-4038-9e36-97b23698ceab",
   "metadata": {},
   "source": [
    "In Python, predefined keywords are reserved words that have special meanings and cannot be used as identifiers (such as variable names or function names). These keywords form the core of the Python language's syntax and control its structure and behavior. They are essential for writing code, as they define the language's syntax rules and provide the basic building blocks for constructing programs."
   ]
  },
  {
   "cell_type": "markdown",
   "id": "199b6f01-ef59-4ed4-b14b-a25d27a94f41",
   "metadata": {},
   "source": [
    "The role of some common Python keywords and examples of how they are used in a program:"
   ]
  },
  {
   "cell_type": "markdown",
   "id": "f4f3eb38-9615-47b8-a501-a4398c52496b",
   "metadata": {},
   "source": [
    "#### 1. if, elif, else\n",
    "\n",
    "Used for conditional statements, allowing the program to execute different blocks of code based on certain conditions."
   ]
  },
  {
   "cell_type": "code",
   "execution_count": 10,
   "id": "feef391b-1c77-48b5-b69d-e6d58f69e209",
   "metadata": {},
   "outputs": [
    {
     "name": "stdout",
     "output_type": "stream",
     "text": [
      "x is +ve\n"
     ]
    }
   ],
   "source": [
    "x = 10\n",
    "if x > 0:\n",
    "    print(\"x is +ve\")\n",
    "elif x < 0:\n",
    "    print(\"x is -ve\")\n",
    "else:\n",
    "    print(\"x is 0\")\n"
   ]
  },
  {
   "cell_type": "markdown",
   "id": "a52e2fbf-927d-4877-b62d-9472e9559620",
   "metadata": {},
   "source": [
    "#### 2. for, while, break, continue\n",
    "\n",
    "Used for looping and controlling the flow of loops."
   ]
  },
  {
   "cell_type": "markdown",
   "id": "3616787d-5fc9-446d-a3ff-8b8dcfc3eff3",
   "metadata": {},
   "source": [
    "for: Iterates over a sequence (like a list or range).\n",
    "\n",
    "while: Repeats as long as a condition is true.\n",
    "\n",
    "break: Exits the nearest enclosing loop.\n",
    "\n",
    "continue: Skips the rest of the code inside the loop for the current iteration and proceeds to the next iteration."
   ]
  },
  {
   "cell_type": "code",
   "execution_count": 9,
   "id": "29d42ad6-7ecd-4e30-9a4a-924bfe839b5f",
   "metadata": {},
   "outputs": [
    {
     "name": "stdout",
     "output_type": "stream",
     "text": [
      "0\n",
      "1\n",
      "2\n",
      "0\n",
      "1\n",
      "2\n",
      "1\n"
     ]
    }
   ],
   "source": [
    "# Using 'for' loop\n",
    "for i in range(3):\n",
    "    print(i)\n",
    "\n",
    "# Using 'while' loop\n",
    "count = 0\n",
    "while count < 3:\n",
    "    print(count)\n",
    "    count += 1\n",
    "\n",
    "# Using 'break' and 'continue'\n",
    "for i in range(10):\n",
    "    if i == 3:\n",
    "        break  # Exit the loop\n",
    "    if i % 2 == 0:\n",
    "        continue  # Skip even numbers\n",
    "    print(i)  # Only prints odd numbers less than 5\n"
   ]
  },
  {
   "cell_type": "markdown",
   "id": "ece812a2-d7b1-4933-a98d-9183b35115e2",
   "metadata": {},
   "source": [
    "#### 3. def\n",
    "\n",
    "Defines a function."
   ]
  },
  {
   "cell_type": "code",
   "execution_count": 7,
   "id": "f4dd4b07-e2e3-4d1e-9045-a86d8e29b5ff",
   "metadata": {},
   "outputs": [
    {
     "name": "stdout",
     "output_type": "stream",
     "text": [
      "Hello, Vijay!\n"
     ]
    }
   ],
   "source": [
    "def greet(name):\n",
    "    return f\"Hello, {name}!\"\n",
    "\n",
    "print(greet(\"Vijay\"))\n"
   ]
  },
  {
   "cell_type": "markdown",
   "id": "331cdd67-caf5-48af-ba78-788d79aaef3f",
   "metadata": {},
   "source": [
    "#### 4. class\n",
    "\n",
    "Defines a class for object-oriented programming."
   ]
  },
  {
   "cell_type": "code",
   "execution_count": 11,
   "id": "b9671a8f-bb16-4bfa-8a15-a5005e33a62e",
   "metadata": {},
   "outputs": [
    {
     "name": "stdout",
     "output_type": "stream",
     "text": [
      "Hi, I'm Vijay.\n"
     ]
    }
   ],
   "source": [
    "class Person:\n",
    "    def __init__(self, name):\n",
    "        self.name = name\n",
    "\n",
    "    def say_hello(self):\n",
    "        return f\"Hi, I'm {self.name}.\"\n",
    "\n",
    "p = Person(\"Vijay\")\n",
    "print(p.say_hello())\n"
   ]
  },
  {
   "cell_type": "markdown",
   "id": "b21f602a-889b-44b9-a405-693420b26c07",
   "metadata": {},
   "source": [
    "#### 5. import, from, as\n",
    "\n",
    "Used for importing modules and packages."
   ]
  },
  {
   "cell_type": "code",
   "execution_count": 12,
   "id": "00508a84-77d4-4efa-9ec1-017266a291b8",
   "metadata": {},
   "outputs": [
    {
     "name": "stdout",
     "output_type": "stream",
     "text": [
      "4.0\n",
      "2024-08-30 11:36:35.911434\n"
     ]
    }
   ],
   "source": [
    "import math\n",
    "from datetime import datetime as dt\n",
    "\n",
    "print(math.sqrt(16))\n",
    "print(dt.now())\n"
   ]
  },
  {
   "cell_type": "markdown",
   "id": "d94eddad-8e03-4375-93d3-b8f213b5ad72",
   "metadata": {},
   "source": [
    "#### 6. try, except, finally, raise\n",
    "\n",
    "Used for handling exceptions and errors."
   ]
  },
  {
   "cell_type": "code",
   "execution_count": 13,
   "id": "b481cb7a-e056-4cac-8948-9d3f47230250",
   "metadata": {},
   "outputs": [
    {
     "name": "stdout",
     "output_type": "stream",
     "text": [
      "You can't divide by zero!\n",
      "This will always execute.\n"
     ]
    }
   ],
   "source": [
    "try:\n",
    "    x = 1 / 0\n",
    "except ZeroDivisionError:\n",
    "    print(\"You can't divide by zero!\")\n",
    "finally:\n",
    "    print(\"This will always execute.\")\n"
   ]
  },
  {
   "cell_type": "markdown",
   "id": "38f6c7fb-db12-44da-8d77-f2211de2f033",
   "metadata": {},
   "source": [
    "#### 7. return\n",
    "\n",
    "Returns a value from a function."
   ]
  },
  {
   "cell_type": "code",
   "execution_count": 14,
   "id": "10d71c42-0bbf-43a3-9df2-35cb4b903fcf",
   "metadata": {},
   "outputs": [
    {
     "name": "stdout",
     "output_type": "stream",
     "text": [
      "13\n"
     ]
    }
   ],
   "source": [
    "def add(a, b):\n",
    "    return a + b\n",
    "\n",
    "result = add(9, 4)\n",
    "print(result)\n"
   ]
  },
  {
   "cell_type": "markdown",
   "id": "e3403cb7-2281-4953-baf3-4f4e4599d36a",
   "metadata": {},
   "source": [
    "#### 8. with\n",
    "\n",
    "Used for resource management, such as opening files, ensuring that resources are properly cleaned up after use."
   ]
  },
  {
   "cell_type": "code",
   "execution_count": 21,
   "id": "d82a9a97-f406-47d9-97ef-0a51befb8911",
   "metadata": {},
   "outputs": [],
   "source": [
    "with open('example.txt', 'w') as file:\n",
    "    file.write(\"Hello, India!\")\n"
   ]
  },
  {
   "cell_type": "markdown",
   "id": "445def09-361b-4d55-b517-6efec7c23687",
   "metadata": {},
   "source": [
    "Each keyword has a specific role in the Python language, helping to control the flow, define structures, and manage resources in Python programs."
   ]
  },
  {
   "cell_type": "markdown",
   "id": "5a763717-4df2-4066-943d-fb836f4bdc0c",
   "metadata": {},
   "source": [
    "## 3. Compare and contrast mutable and immutable ob\f",
    "jects in Python with examples"
   ]
  },
  {
   "cell_type": "markdown",
   "id": "3c54ee92-4428-4469-948c-7b6f0f3e6163",
   "metadata": {},
   "source": [
    "In Python, objects can be classified as either mutable or immutable based on whether they can be changed after their creation. Understanding the difference between mutable and immutable objects is crucial for effective programming in Python. Here's a comparison with examples:"
   ]
  },
  {
   "cell_type": "markdown",
   "id": "e266e868-f159-4b3d-8882-a9acd12f006e",
   "metadata": {
    "tags": []
   },
   "source": [
    "#### Mutable Objects\n",
    "\n",
    "##### Definition: Mutable objects can be changed after they are created. This means that you can modify their content or state without changing their identity (memory address).\n",
    "\n",
    "###### Examples:\n",
    "\n",
    "* Lists\n",
    "\n",
    "* Dictionaries\n",
    "\n",
    "* Sets"
   ]
  },
  {
   "cell_type": "markdown",
   "id": "890861fc-8eba-40a9-98af-6efd12ae0462",
   "metadata": {},
   "source": [
    "##### Characteristics:\n",
    "\n",
    "1. In-Place Modification: You can change the content of mutable objects without creating a new object.\n",
    "\n",
    "2. Aliasing: Multiple variables can refer to the same mutable object. Changes through one reference affect all other references."
   ]
  },
  {
   "cell_type": "code",
   "execution_count": 22,
   "id": "b7709241-be0e-442e-aca0-4e370ad7ee0d",
   "metadata": {},
   "outputs": [
    {
     "name": "stdout",
     "output_type": "stream",
     "text": [
      "[1, 2, 3]\n",
      "[1, 2, 3, 4]\n",
      "{'a': 1, 'b': 2}\n",
      "{'a': 1, 'b': 2, 'c': 3}\n"
     ]
    }
   ],
   "source": [
    "# Lists (mutable)\n",
    "my_list = [1, 2, 3]\n",
    "print(my_list)  # Output: [1, 2, 3]\n",
    "\n",
    "my_list.append(4)  # Modify the list in place\n",
    "print(my_list)  # Output: [1, 2, 3, 4]\n",
    "\n",
    "# Dictionaries (mutable)\n",
    "my_dict = {'a': 1, 'b': 2}\n",
    "print(my_dict)  # Output: {'a': 1, 'b': 2}\n",
    "\n",
    "my_dict['c'] = 3  # Add a new key-value pair\n",
    "print(my_dict)  # Output: {'a': 1, 'b': 2, 'c': 3}\n"
   ]
  },
  {
   "cell_type": "markdown",
   "id": "e922dd6f-4f62-42f0-93ea-980332720f84",
   "metadata": {},
   "source": [
    "#### Immutable Objects\n",
    "\n",
    "##### Definition: Immutable objects cannot be changed once they are created. Any operation that seems to modify an immutable object actually creates a new object.\n",
    "\n",
    "###### Examples:\n",
    "\n",
    "* Integers\n",
    "\n",
    "* Floats\n",
    "\n",
    "* Strings\n",
    "\n",
    "* Tuples"
   ]
  },
  {
   "cell_type": "markdown",
   "id": "9145f75d-a7c5-402f-9a19-620b1d8419de",
   "metadata": {},
   "source": [
    "##### Characteristics:\n",
    "\n",
    "1. No In-Place Modification: To \"change\" an immutable object, a new object is created with the updated value.\n",
    "\n",
    "2. Aliasing: Multiple variables can refer to the same immutable object. Since immutable objects cannot be changed, any change creates a new object."
   ]
  },
  {
   "cell_type": "code",
   "execution_count": 29,
   "id": "ee2b406c-cb74-449d-9d6a-d1f0ec561fa6",
   "metadata": {},
   "outputs": [
    {
     "name": "stdout",
     "output_type": "stream",
     "text": [
      "India\n",
      "Indaa\n",
      "India\n",
      "(1, 2, 3)\n",
      "(1, 2, 3, 4)\n",
      "(1, 2, 3)\n"
     ]
    }
   ],
   "source": [
    "# Strings (immutable)\n",
    "my_string = \"India\"\n",
    "print(my_string)  # Output: \"India\"\n",
    "\n",
    "new_string = my_string.replace('i', 'a')  # Creates a new string\n",
    "print(new_string)  # Output: \"Indaa\"\n",
    "print(my_string)  # Output: \"india\" (unchanged)\n",
    "\n",
    "# Tuples (immutable)\n",
    "my_tuple = (1, 2, 3)\n",
    "print(my_tuple)  # Output: (1, 2, 3)\n",
    "\n",
    "# Attempting to modify a tuple will result in an error\n",
    "# my_tuple[1] = 4  # TypeError: 'tuple' object does not support item assignment\n",
    "\n",
    "# Creating a new tuple with modifications\n",
    "new_tuple = my_tuple + (4,)\n",
    "print(new_tuple)  # Output: (1, 2, 3, 4)\n",
    "print(my_tuple)  # Output: (1, 2, 3) (unchanged)\n"
   ]
  },
  {
   "cell_type": "markdown",
   "id": "70e46476-8753-4a83-beaa-e65e5ec86ec4",
   "metadata": {},
   "source": [
    "#### Key Differences\n",
    "\n",
    "##### 1. Modification:\n",
    "\n",
    "* Mutable: Can be changed in place (e.g., lists, dictionaries).\n",
    "\n",
    "* Immutable: Cannot be changed in place; modifications create new objects (e.g., strings, tuples).\n",
    "\n",
    "##### 2. Performance:\n",
    "\n",
    "* Mutable: Operations that modify the object in place can be more efficient since they avoid creating new objects.\n",
    "\n",
    "* Immutable: Operations create new objects, which might involve additional overhead, but can be more predictable and safer in concurrent scenarios.\n",
    "\n",
    "##### 3.Aliasing:\n",
    "\n",
    "* Mutable: Changes through one reference affect all references to the same object.\n",
    "\n",
    "* Immutable: Changes create new objects, so other references remain unaffected.\n",
    "\n",
    "##### 4.Use Cases:\n",
    "\n",
    "* Mutable: Useful when you need to modify data in place, such as maintaining state or accumulating results.\n",
    "\n",
    "* Immutable: Useful for ensuring data integrity, as their unchangeable nature prevents accidental modifications.\n",
    "\n",
    "By understanding these differences, you can make more informed decisions about which types to use based on the needs of your application."
   ]
  },
  {
   "cell_type": "markdown",
   "id": "22f44366-0e99-4b0a-b992-a56abff63f3f",
   "metadata": {},
   "source": [
    "## 4. Discuss the different types of operators in Python and provide examples of how they are used"
   ]
  },
  {
   "cell_type": "markdown",
   "id": "76107683-199d-49c4-afaa-f92720dd50f6",
   "metadata": {},
   "source": [
    "In Python, operators are special symbols that perform operations on variables and values. They are categorized into several types based on the kind of operation they perform. Here's a detailed overview of the different types of operators in Python, along with examples:"
   ]
  },
  {
   "cell_type": "markdown",
   "id": "4e9f33c9-b1d8-4864-a3de-36f9f2d6e8db",
   "metadata": {},
   "source": [
    "##### 1. Arithmetic Operators\n",
    "\n",
    "These operators are used to perform basic mathematical operations.\n",
    "\n",
    "* Addition (+): Adds two values.\n",
    "\n",
    "* Subtraction (-): Subtracts one value from another.\n",
    "\n",
    "* Multiplication (*): Multiplies two values.\n",
    "\n",
    "* Division (/): Divides one value by another (returns a float).\n",
    "\n",
    "* Floor Division (//): Divides one value by another and returns the integer part of the quotient.\n",
    "\n",
    "* Modulus (%): Returns the remainder of a division.\n",
    "\n",
    "* Exponentiation (**): Raises one value to the power of another.\n",
    "\n",
    "##### Examples:"
   ]
  },
  {
   "cell_type": "code",
   "execution_count": 30,
   "id": "e7e19887-1715-41e3-a16c-60e89fdd4342",
   "metadata": {},
   "outputs": [
    {
     "name": "stdout",
     "output_type": "stream",
     "text": [
      "25\n",
      "15\n",
      "100\n",
      "4.0\n",
      "4\n",
      "0\n",
      "3200000\n"
     ]
    }
   ],
   "source": [
    "a = 20\n",
    "b = 5\n",
    "\n",
    "print(a + b)   # Output: 25\n",
    "print(a - b)   # Output: 15\n",
    "print(a * b)   # Output: 100\n",
    "print(a / b)   # Output: 4\n",
    "print(a // b)  # Output: 4\n",
    "print(a % b)   # Output: 0\n",
    "print(a ** b)  # Output: 3200000"
   ]
  },
  {
   "cell_type": "markdown",
   "id": "09104975-92a5-4b02-a872-94908a9211ac",
   "metadata": {},
   "source": [
    "##### 2. Comparison Operators\n",
    "\n",
    "These operators are used to compare two values.\n",
    "\n",
    "* Equal to (==): Checks if two values are equal.\n",
    "\n",
    "* Not equal to (!=): Checks if two values are not equal.\n",
    "\n",
    "* Greater than (>): Checks if one value is greater than another.\n",
    "\n",
    "* Less than (<): Checks if one value is less than another.\n",
    "\n",
    "* Greater than or equal to (>=): Checks if one value is greater than or equal to another.\n",
    "\n",
    "* Less than or equal to (<=): Checks if one value is less than or equal to another.\n",
    "\n",
    "##### Examples:"
   ]
  },
  {
   "cell_type": "code",
   "execution_count": 31,
   "id": "6c9b0dad-0ea9-44bc-bd1b-6c4edc8edb39",
   "metadata": {},
   "outputs": [
    {
     "name": "stdout",
     "output_type": "stream",
     "text": [
      "False\n",
      "True\n",
      "True\n",
      "False\n",
      "True\n",
      "False\n"
     ]
    }
   ],
   "source": [
    "x = 15\n",
    "y = 8\n",
    "\n",
    "print(x == y)  # Output: False\n",
    "print(x != y)  # Output: True\n",
    "print(x > y)   # Output: True\n",
    "print(x < y)   # Output: False\n",
    "print(x >= y)  # Output: True\n",
    "print(x <= y)  # Output: False\n"
   ]
  },
  {
   "cell_type": "markdown",
   "id": "010865c4-7efa-4827-91d9-8e7c234161bf",
   "metadata": {},
   "source": [
    "##### 3. Logical Operators\n",
    "\n",
    "These operators are used to perform logical operations.\n",
    "\n",
    "* AND (and): Returns True if both operands are true.\n",
    "\n",
    "* OR (or): Returns True if at least one of the operands is true.\n",
    "\n",
    "* NOT (not): Returns True if the operand is false.\n",
    "\n",
    "##### Examples:"
   ]
  },
  {
   "cell_type": "code",
   "execution_count": 32,
   "id": "cd030054-9cc6-44fb-be2d-3da475462547",
   "metadata": {},
   "outputs": [
    {
     "name": "stdout",
     "output_type": "stream",
     "text": [
      "False\n",
      "True\n",
      "False\n",
      "True\n"
     ]
    }
   ],
   "source": [
    "a = True\n",
    "b = False\n",
    "\n",
    "print(a and b)  # Output: False\n",
    "print(a or b)   # Output: True\n",
    "print(not a)    # Output: False\n",
    "print(not b)    # Output: True\n"
   ]
  },
  {
   "cell_type": "markdown",
   "id": "cd4e3fa5-9305-496f-98db-a7b11fb1f8ff",
   "metadata": {},
   "source": [
    "##### 4. Assignment Operators\n",
    "\n",
    "These operators are used to assign values to variables.\n",
    "\n",
    "* Assignment (=): Assigns a value to a variable.\n",
    "\n",
    "* Addition Assignment (+=): Adds a value to a variable and assigns the result to that variable.\n",
    "\n",
    "* Subtraction Assignment (-=): Subtracts a value from a variable and assigns the result to that variable.\n",
    "\n",
    "* Multiplication Assignment (*=): Multiplies a variable by a value and assigns the result to that variable.\n",
    "\n",
    "* Division Assignment (/=): Divides a variable by a value and assigns the result to that variable.\n",
    "\n",
    "* Floor Division Assignment (//=): Performs floor division on a variable and assigns the result to that variable.\n",
    "\n",
    "* Modulus Assignment (%=): Takes the modulus of a variable with a value and assigns the result to that variable.\n",
    "\n",
    "* Exponentiation Assignment (**=): Raises a variable to the power of a value and assigns the result to that variable.\n",
    "\n",
    "##### Examples:"
   ]
  },
  {
   "cell_type": "code",
   "execution_count": 33,
   "id": "5a5cbebe-9d91-4fec-9297-060525edbed2",
   "metadata": {},
   "outputs": [
    {
     "name": "stdout",
     "output_type": "stream",
     "text": [
      "8\n",
      "6\n",
      "24\n",
      "4.0\n",
      "2.0\n",
      "0.0\n",
      "0.0\n"
     ]
    }
   ],
   "source": [
    "x = 5\n",
    "\n",
    "x += 3  # x = x + 3\n",
    "print(x)  # Output: 8\n",
    "\n",
    "x -= 2  # x = x - 2\n",
    "print(x)  # Output: 6\n",
    "\n",
    "x *= 4  # x = x * 4\n",
    "print(x)  # Output: 24\n",
    "\n",
    "x /= 6  # x = x / 6\n",
    "print(x)  # Output: 4.0\n",
    "\n",
    "x //= 2  # x = x // 2\n",
    "print(x)  # Output: 2.0\n",
    "\n",
    "x %= 2  # x = x % 2\n",
    "print(x)  # Output: 0.0\n",
    "\n",
    "x **= 3  # x = x ** 3\n",
    "print(x)  # Output: 0.0\n"
   ]
  },
  {
   "cell_type": "markdown",
   "id": "38a4a5a4-72fe-4726-a395-a481b0f94e0e",
   "metadata": {},
   "source": [
    "##### 5. Bitwise Operators\n",
    "\n",
    "These operators are used to perform bit-level operations.\n",
    "\n",
    "* AND (&): Performs a bitwise AND operation.\n",
    "\n",
    "* OR (|): Performs a bitwise OR operation.\n",
    "\n",
    "* XOR (^): Performs a bitwise XOR operation.\n",
    "\n",
    "* NOT (~): Performs a bitwise NOT operation (inverts the bits).\n",
    "\n",
    "* Left Shift (<<): Shifts the bits of a number to the left.\n",
    "\n",
    "* Right Shift (>>): Shifts the bits of a number to the right.\n",
    "\n",
    "##### Examples:"
   ]
  },
  {
   "cell_type": "code",
   "execution_count": 34,
   "id": "0a7636c2-f7d8-42ad-920c-8398dadd00c4",
   "metadata": {},
   "outputs": [
    {
     "name": "stdout",
     "output_type": "stream",
     "text": [
      "1\n",
      "7\n",
      "6\n",
      "-6\n",
      "10\n",
      "2\n"
     ]
    }
   ],
   "source": [
    "a = 5  # 0b0101\n",
    "b = 3  # 0b0011\n",
    "\n",
    "print(a & b)  # Output: 1 (0b0001)\n",
    "print(a | b)  # Output: 7 (0b0111)\n",
    "print(a ^ b)  # Output: 6 (0b0110)\n",
    "print(~a)     # Output: -6 (bitwise inversion)\n",
    "print(a << 1) # Output: 10 (0b1010)\n",
    "print(a >> 1) # Output: 2 (0b0010)\n"
   ]
  },
  {
   "cell_type": "markdown",
   "id": "ac18443b-6728-4e46-a426-43d850ed4f19",
   "metadata": {},
   "source": [
    "##### 6. Identity Operators\n",
    "\n",
    "These operators are used to compare the memory locations of two objects.\n",
    "\n",
    "* is: Checks if two variables point to the same object.\n",
    "\n",
    "* is not: Checks if two variables point to different objects.\n",
    "\n",
    "##### Examples:"
   ]
  },
  {
   "cell_type": "code",
   "execution_count": 35,
   "id": "38ed8637-e689-4009-82fd-36d1d71626e0",
   "metadata": {},
   "outputs": [
    {
     "name": "stdout",
     "output_type": "stream",
     "text": [
      "False\n",
      "True\n",
      "True\n",
      "False\n"
     ]
    }
   ],
   "source": [
    "x = [1, 2, 3]\n",
    "y = [1, 2, 3]\n",
    "\n",
    "print(x is y)     # Output: False (different objects)\n",
    "print(x is not y) # Output: True (different objects)\n",
    "\n",
    "z = x\n",
    "\n",
    "print(x is z)     # Output: True (same object)\n",
    "print(x is not z) # Output: False (same object)\n"
   ]
  },
  {
   "cell_type": "markdown",
   "id": "b7991724-2eff-49ec-a917-1d7180a0538d",
   "metadata": {},
   "source": [
    "##### 7. Conditional Expressions\n",
    "\n",
    "These operators provide a shorthand way to write conditional expressions.\n",
    "\n",
    "* Ternary Conditional Operator (x if condition else y): Returns x if the condition is true, otherwise returns y.\n",
    "\n",
    "##### Examples:"
   ]
  },
  {
   "cell_type": "code",
   "execution_count": 36,
   "id": "0848b0f0-4259-4791-afd2-e593137603b3",
   "metadata": {},
   "outputs": [
    {
     "name": "stdout",
     "output_type": "stream",
     "text": [
      "young\n"
     ]
    }
   ],
   "source": [
    "age = 18\n",
    "status = \"young\" if age >= 18 else \"minor\"\n",
    "print(status)  # Output: young\n"
   ]
  },
  {
   "cell_type": "markdown",
   "id": "e8fab714-21e3-491a-8e3b-b5835921e300",
   "metadata": {},
   "source": [
    "These operators form the fundamental tools for manipulating data and controlling the flow of programs in Python. Understanding how to use them effectively is crucial for writing efficient and readable code."
   ]
  },
  {
   "cell_type": "markdown",
   "id": "5fbb7bd6-b5d3-4067-9320-10f9d4e72ebe",
   "metadata": {},
   "source": [
    "## 5. Explain the concept of type casting in Python with examples"
   ]
  },
  {
   "cell_type": "markdown",
   "id": "da411b6a-1355-4ace-aa41-c99528c87517",
   "metadata": {},
   "source": [
    "Type casting in Python refers to the process of converting a variable from one data type to another. This is useful when you need to perform operations that require specific data types or when you want to ensure that the data conforms to a particular type for consistency and compatibility.\n",
    "\n",
    "Python provides several built-in functions for type casting. Here’s a detailed explanation with examples:\n",
    "\n",
    "##### Common Type Casting Functions\n",
    "\n",
    "1. int(): Converts a value to an integer.\n",
    "\n",
    "2. float(): Converts a value to a float.\n",
    "\n",
    "3. str(): Converts a value to a string.\n",
    "\n",
    "4. bool(): Converts a value to a boolean.\n",
    "\n",
    "5. list(): Converts a value to a list.\n",
    "\n",
    "6. tuple(): Converts a value to a tuple.\n",
    "\n",
    "7. set(): Converts a value to a set.\n",
    "\n",
    "8. dict(): Converts a value to a dictionary (when the value is an iterable of key-value pairs).\n",
    "\n",
    "#### Examples of Type Casting\n",
    "\n",
    "1. Converting to Integer (int())\n",
    "\n",
    "The int() function converts a value to an integer. If the value is a float, it truncates the decimal part."
   ]
  },
  {
   "cell_type": "code",
   "execution_count": 37,
   "id": "1f222440-61b9-488f-b494-06fe51d57684",
   "metadata": {},
   "outputs": [
    {
     "name": "stdout",
     "output_type": "stream",
     "text": [
      "3\n",
      "42\n",
      "1\n"
     ]
    }
   ],
   "source": [
    "# Converting a float to an integer\n",
    "num_float = 3.99\n",
    "num_int = int(num_float)\n",
    "print(num_int)  # Output: 3\n",
    "\n",
    "# Converting a string to an integer\n",
    "num_str = \"42\"\n",
    "num_int = int(num_str)\n",
    "print(num_int)  # Output: 42\n",
    "\n",
    "# Converting a boolean to an integer\n",
    "bool_val = True\n",
    "num_int = int(bool_val)\n",
    "print(num_int)  # Output: 1"
   ]
  },
  {
   "cell_type": "markdown",
   "id": "d1cfe18e-2fd2-4555-95b5-627632a44046",
   "metadata": {},
   "source": [
    "2. Converting to Float (float())\n",
    "\n",
    "The float() function converts a value to a float. This is useful for ensuring that division operations produce floating-point results."
   ]
  },
  {
   "cell_type": "code",
   "execution_count": 38,
   "id": "36170184-ccd6-4c62-b07b-754c297e4430",
   "metadata": {},
   "outputs": [
    {
     "name": "stdout",
     "output_type": "stream",
     "text": [
      "7.0\n",
      "3.14\n",
      "0.0\n"
     ]
    }
   ],
   "source": [
    "# Converting an integer to a float\n",
    "num_int = 7\n",
    "num_float = float(num_int)\n",
    "print(num_float)  # Output: 7.0\n",
    "\n",
    "# Converting a string to a float\n",
    "num_str = \"3.14\"\n",
    "num_float = float(num_str)\n",
    "print(num_float)  # Output: 3.14\n",
    "\n",
    "# Converting a boolean to a float\n",
    "bool_val = False\n",
    "num_float = float(bool_val)\n",
    "print(num_float)  # Output: 0.0\n"
   ]
  },
  {
   "cell_type": "markdown",
   "id": "525daded-006a-47a2-9bfe-de10b5977301",
   "metadata": {},
   "source": [
    "3. Converting to String (str())\n",
    "\n",
    "The str() function converts a value to a string. This is useful for concatenating values with strings or for output purposes."
   ]
  },
  {
   "cell_type": "code",
   "execution_count": 39,
   "id": "fa774698-0aed-469e-aac6-326533307d38",
   "metadata": {},
   "outputs": [
    {
     "name": "stdout",
     "output_type": "stream",
     "text": [
      "123\n",
      "45.67\n",
      "True\n"
     ]
    }
   ],
   "source": [
    "# Converting an integer to a string\n",
    "num_int = 123\n",
    "num_str = str(num_int)\n",
    "print(num_str)  # Output: \"123\"\n",
    "\n",
    "# Converting a float to a string\n",
    "num_float = 45.67\n",
    "num_str = str(num_float)\n",
    "print(num_str)  # Output: \"45.67\"\n",
    "\n",
    "# Converting a boolean to a string\n",
    "bool_val = True\n",
    "num_str = str(bool_val)\n",
    "print(num_str)  # Output: \"True\"\n"
   ]
  },
  {
   "cell_type": "markdown",
   "id": "02760629-9bd1-40d0-b95c-e6dca96ef982",
   "metadata": {},
   "source": [
    "4. Converting to Boolean (bool())\n",
    "\n",
    "The bool() function converts a value to a boolean. In Python, most values evaluate to True, except for the following which evaluate to False:\n",
    "\n",
    "* None\n",
    "\n",
    "* False\n",
    "\n",
    "* 0 (integer zero)\n",
    "\n",
    "* 0.0 (float zero)\n",
    "\n",
    "* '' (empty string)\n",
    "\n",
    "* [] (empty list)\n",
    "\n",
    "* {} (empty dictionary)\n",
    "\n",
    "* () (empty tuple)"
   ]
  },
  {
   "cell_type": "code",
   "execution_count": 40,
   "id": "f2c76bae-bb8c-4a73-b937-0b16c67552fb",
   "metadata": {},
   "outputs": [
    {
     "name": "stdout",
     "output_type": "stream",
     "text": [
      "True\n",
      "False\n",
      "False\n",
      "True\n"
     ]
    }
   ],
   "source": [
    "# Converting a non-zero integer to boolean\n",
    "num_int = 7\n",
    "bool_val = bool(num_int)\n",
    "print(bool_val)  # Output: True\n",
    "\n",
    "# Converting zero to boolean\n",
    "num_int = 0\n",
    "bool_val = bool(num_int)\n",
    "print(bool_val)  # Output: False\n",
    "\n",
    "# Converting an empty string to boolean\n",
    "empty_str = \"\"\n",
    "bool_val = bool(empty_str)\n",
    "print(bool_val)  # Output: False\n",
    "\n",
    "# Converting a non-empty string to boolean\n",
    "non_empty_str = \"Hello\"\n",
    "bool_val = bool(non_empty_str)\n",
    "print(bool_val)  # Output: True\n"
   ]
  },
  {
   "cell_type": "markdown",
   "id": "47dae2c0-97f3-47e3-a725-db959050ef79",
   "metadata": {},
   "source": [
    "5. Converting to List (list())\n",
    "\n",
    "The list() function converts an iterable (like a tuple, string, or set) to a list."
   ]
  },
  {
   "cell_type": "code",
   "execution_count": 41,
   "id": "fbbb6f95-6135-4377-b98a-7e72edc20d1f",
   "metadata": {},
   "outputs": [
    {
     "name": "stdout",
     "output_type": "stream",
     "text": [
      "[1, 2, 3]\n",
      "['h', 'e', 'l', 'l', 'o']\n",
      "[4, 5, 6]\n"
     ]
    }
   ],
   "source": [
    "# Converting a tuple to a list\n",
    "num_tuple = (1, 2, 3)\n",
    "num_list = list(num_tuple)\n",
    "print(num_list)  # Output: [1, 2, 3]\n",
    "\n",
    "# Converting a string to a list of characters\n",
    "str_val = \"hello\"\n",
    "char_list = list(str_val)\n",
    "print(char_list)  # Output: ['h', 'e', 'l', 'l', 'o']\n",
    "\n",
    "# Converting a set to a list\n",
    "num_set = {4, 5, 6}\n",
    "num_list = list(num_set)\n",
    "print(num_list)  # Output: [4, 5, 6] (order may vary)\n"
   ]
  },
  {
   "cell_type": "markdown",
   "id": "28ca11d1-f8eb-4696-9a66-1efef129f9ac",
   "metadata": {},
   "source": [
    "6. Converting to Tuple (tuple())\n",
    "\n",
    "The tuple() function converts an iterable to a tuple."
   ]
  },
  {
   "cell_type": "code",
   "execution_count": 42,
   "id": "09d77311-18b0-4e1f-b396-3e4f6c859cbe",
   "metadata": {},
   "outputs": [
    {
     "name": "stdout",
     "output_type": "stream",
     "text": [
      "(1, 2, 3)\n",
      "('w', 'o', 'r', 'l', 'd')\n"
     ]
    }
   ],
   "source": [
    "# Converting a list to a tuple\n",
    "num_list = [1, 2, 3]\n",
    "num_tuple = tuple(num_list)\n",
    "print(num_tuple)  # Output: (1, 2, 3)\n",
    "\n",
    "# Converting a string to a tuple of characters\n",
    "str_val = \"world\"\n",
    "char_tuple = tuple(str_val)\n",
    "print(char_tuple)  # Output: ('w', 'o', 'r', 'l', 'd')\n"
   ]
  },
  {
   "cell_type": "markdown",
   "id": "9998cb90-6a2b-46f9-8d03-1c57995928ca",
   "metadata": {},
   "source": [
    "7. Converting to Set (set())\n",
    "\n",
    "The set() function converts an iterable to a set. Sets are unordered collections of unique elements."
   ]
  },
  {
   "cell_type": "code",
   "execution_count": 43,
   "id": "b8e6fb56-c5ba-4066-a6f0-d05981fd9ecb",
   "metadata": {},
   "outputs": [
    {
     "name": "stdout",
     "output_type": "stream",
     "text": [
      "{1, 2, 3, 4}\n",
      "{'n', 'b', 'a'}\n"
     ]
    }
   ],
   "source": [
    "# Converting a list to a set\n",
    "num_list = [1, 2, 2, 3, 4]\n",
    "num_set = set(num_list)\n",
    "print(num_set)  # Output: {1, 2, 3, 4}\n",
    "\n",
    "# Converting a string to a set of characters\n",
    "str_val = \"banana\"\n",
    "char_set = set(str_val)\n",
    "print(char_set)  # Output: {'a', 'b', 'n'} (order may vary)\n"
   ]
  },
  {
   "cell_type": "markdown",
   "id": "646ac66c-f04f-4746-8145-a75955e26413",
   "metadata": {},
   "source": [
    "8. Converting to Dictionary (dict())\n",
    "\n",
    "The dict() function converts a list of tuples or other iterable of key-value pairs into a dictionary."
   ]
  },
  {
   "cell_type": "code",
   "execution_count": 44,
   "id": "963c6aac-5b64-4f45-b24d-4680e252b36c",
   "metadata": {},
   "outputs": [
    {
     "name": "stdout",
     "output_type": "stream",
     "text": [
      "{'a': 1, 'b': 2, 'c': 3}\n",
      "{'name': 'Alice', 'age': 30}\n"
     ]
    }
   ],
   "source": [
    "# Converting a list of tuples to a dictionary\n",
    "pair_list = [('a', 1), ('b', 2), ('c', 3)]\n",
    "num_dict = dict(pair_list)\n",
    "print(num_dict)  # Output: {'a': 1, 'b': 2, 'c': 3}\n",
    "\n",
    "# Converting a string to a dictionary requires custom logic\n",
    "keys = ['name', 'age']\n",
    "values = ['Alice', 30]\n",
    "num_dict = dict(zip(keys, values))\n",
    "print(num_dict)  # Output: {'name': 'Alice', 'age': 30}\n"
   ]
  },
  {
   "cell_type": "markdown",
   "id": "ce72d9d1-9099-4f85-ad58-b752a4481bc8",
   "metadata": {},
   "source": [
    "##### Key Points\n",
    "\n",
    "* Type Casting helps in converting data types to perform operations that require specific types.\n",
    "\n",
    "* Implicit Casting occurs automatically when Python converts types during operations (e.g., integer to float).\n",
    "\n",
    "* Explicit Casting is performed by using functions like int(), float(), str(), etc., to manually convert data types.\n",
    "\n",
    "Understanding type casting is essential for managing data types correctly, ensuring accurate computations, and avoiding errors in Python programs."
   ]
  },
  {
   "cell_type": "markdown",
   "id": "f2750d53-9655-4745-88c1-82edf2bf0a42",
   "metadata": {},
   "source": [
    "## 6. How do conditional statements work in Python? Illustrate with examples"
   ]
  },
  {
   "cell_type": "markdown",
   "id": "b784810b-ac4d-4619-bbd6-d06c62f44376",
   "metadata": {},
   "source": [
    "Conditional statements in Python allow you to execute different blocks of code based on certain conditions. They are fundamental for decision-making in programs. Python supports several types of conditional statements, including if, elif, and else, and also supports conditional expressions.\n",
    "\n",
    "Here's a detailed look at how these conditional statements work, along with examples:\n",
    "\n",
    "##### 1. if Statement\n",
    "\n",
    "The if statement evaluates a condition and executes a block of code if the condition is True.\n",
    "\n",
    "##### Syntax:"
   ]
  },
  {
   "cell_type": "markdown",
   "id": "4e4d5778-93ee-4c6f-93df-b4d62faa491a",
   "metadata": {},
   "source": [
    "Example:"
   ]
  },
  {
   "cell_type": "code",
   "execution_count": 46,
   "id": "d9729d72-5bbb-4e2f-bfa8-e1b97ab5bb6d",
   "metadata": {},
   "outputs": [
    {
     "name": "stdout",
     "output_type": "stream",
     "text": [
      "It's hot outside.\n"
     ]
    }
   ],
   "source": [
    "temperature = 30\n",
    "\n",
    "if temperature > 25:\n",
    "    print(\"It's hot outside.\")\n"
   ]
  },
  {
   "cell_type": "markdown",
   "id": "91228312-5bd6-4352-99da-eb23db51f750",
   "metadata": {},
   "source": [
    "Explanation: The code inside the if block executes because the condition temperature > 25 is True."
   ]
  },
  {
   "cell_type": "markdown",
   "id": "181dd982-e0f8-43ca-bb29-65d11f2e9a67",
   "metadata": {},
   "source": [
    "##### 2. elif Statement\n",
    "\n",
    "The elif (short for \"else if\") statement allows you to check multiple conditions if the previous conditions were False. It is used when you have more than two conditions to evaluate."
   ]
  },
  {
   "cell_type": "markdown",
   "id": "d60ce2d8-ad30-4cea-84f2-190c7bc295b7",
   "metadata": {},
   "source": [
    "Syntax:\n"
   ]
  },
  {
   "cell_type": "markdown",
   "id": "2b88dd30-61af-4a31-8a93-0d06db0a0fcc",
   "metadata": {},
   "source": [
    "if condition1:\n",
    "    # code to execute if condition1 is True\n",
    "    \n",
    "elif condition2:\n",
    "    # code to execute if condition2 is True\n"
   ]
  },
  {
   "cell_type": "markdown",
   "id": "c62d74b4-a971-4f78-a587-a67d67fae06c",
   "metadata": {},
   "source": [
    "Example:"
   ]
  },
  {
   "cell_type": "code",
   "execution_count": 49,
   "id": "56d17e90-8aa2-4e31-bbb7-152fb4c1673a",
   "metadata": {},
   "outputs": [
    {
     "name": "stdout",
     "output_type": "stream",
     "text": [
      "It's warm outside.\n"
     ]
    }
   ],
   "source": [
    "temperature = 18\n",
    "\n",
    "if temperature > 25:\n",
    "    print(\"It's hot outside.\")\n",
    "elif temperature > 15:\n",
    "    print(\"It's warm outside.\")"
   ]
  },
  {
   "cell_type": "markdown",
   "id": "5838d724-c7aa-491d-9ab9-3ea7e30b26bb",
   "metadata": {},
   "source": [
    "Explanation: Since temperature > 25 is False, Python checks the elif condition. temperature > 15 is True, so it prints \"It's warm outside.\""
   ]
  },
  {
   "cell_type": "markdown",
   "id": "2d21c135-2817-42c8-a1bd-5b001bc05bde",
   "metadata": {},
   "source": [
    "##### 3. else Statement\n",
    "\n",
    "The else statement executes a block of code when none of the preceding conditions are True.\n",
    "\n",
    "Syntax:"
   ]
  },
  {
   "cell_type": "markdown",
   "id": "8e2fe5d4-b0db-4498-a3f5-520222f1d88f",
   "metadata": {},
   "source": [
    "if condition:\n",
    "    # code to execute if condition is True\n",
    "\n",
    "else:\n",
    "    # code to execute if condition is False\n"
   ]
  },
  {
   "cell_type": "markdown",
   "id": "6ab995e5-fb85-4fa7-9438-f3d0fd5bd7e0",
   "metadata": {},
   "source": [
    "Example:"
   ]
  },
  {
   "cell_type": "code",
   "execution_count": 51,
   "id": "c6f555a9-05a5-4821-a00c-a454e31b76ef",
   "metadata": {},
   "outputs": [
    {
     "name": "stdout",
     "output_type": "stream",
     "text": [
      "It's not hot outside.\n"
     ]
    }
   ],
   "source": [
    "temperature = 10\n",
    "\n",
    "if temperature > 25:\n",
    "    print(\"It's hot outside.\")\n",
    "else:\n",
    "    print(\"It's not hot outside.\")\n"
   ]
  },
  {
   "cell_type": "markdown",
   "id": "18fe11d5-92ff-4de2-862d-69589ff4065e",
   "metadata": {},
   "source": [
    "Explanation: Since temperature > 25 is False, Python executes the code in the else block, printing \"It's not hot outside.\""
   ]
  },
  {
   "cell_type": "markdown",
   "id": "a94f1a1d-5889-4403-91ce-4b18ea3fac14",
   "metadata": {},
   "source": [
    "##### 4. Nested Conditional Statements\n",
    "\n",
    "You can nest conditional statements within each other to handle more complex scenarios.\n",
    "\n",
    "Example:"
   ]
  },
  {
   "cell_type": "code",
   "execution_count": 52,
   "id": "19539311-4337-49fa-8e9a-2183c7027a13",
   "metadata": {},
   "outputs": [
    {
     "name": "stdout",
     "output_type": "stream",
     "text": [
      "It's a warm and sunny day!\n"
     ]
    }
   ],
   "source": [
    "temperature = 20\n",
    "weather = \"sunny\"\n",
    "\n",
    "if temperature > 15:\n",
    "    if weather == \"sunny\":\n",
    "        print(\"It's a warm and sunny day!\")\n",
    "    else:\n",
    "        print(\"It's warm but not sunny.\")\n",
    "else:\n",
    "    print(\"It's cold outside.\")\n"
   ]
  },
  {
   "cell_type": "markdown",
   "id": "16cf39b5-d5c9-46d6-b29d-0fd15602ca1d",
   "metadata": {},
   "source": [
    "Explanation: Since temperature > 15 is True, Python checks the nested if statement. The condition weather == \"sunny\" is also True, so it prints \"It's a warm and sunny day!\""
   ]
  },
  {
   "cell_type": "markdown",
   "id": "096b0443-b973-4732-9381-f2bedadca9b0",
   "metadata": {},
   "source": [
    "##### 5. Conditional Expressions (Ternary Operator)\n",
    "\n",
    "Python supports a concise way to write conditional expressions, often called the ternary operator. This allows you to assign values based on a condition in a single line.\n",
    "\n",
    "Syntax:"
   ]
  },
  {
   "cell_type": "markdown",
   "id": "f3dc923a-2381-4725-93eb-988429188730",
   "metadata": {},
   "source": [
    "value = true_value if condition else false_value\n"
   ]
  },
  {
   "cell_type": "markdown",
   "id": "3c45a999-82a0-4099-a356-afb0eac6a0d0",
   "metadata": {},
   "source": [
    "Example:"
   ]
  },
  {
   "cell_type": "code",
   "execution_count": 54,
   "id": "ec9b3c94-761f-4ee5-8f7b-06bfe138a14c",
   "metadata": {},
   "outputs": [
    {
     "name": "stdout",
     "output_type": "stream",
     "text": [
      "Warm\n"
     ]
    }
   ],
   "source": [
    "temperature = 22\n",
    "status = \"Warm\" if temperature > 20 else \"Cool\"\n",
    "print(status)  # Output: Warm\n"
   ]
  },
  {
   "cell_type": "markdown",
   "id": "0e1f8c12-2b85-4ca3-97e5-69875610e35d",
   "metadata": {},
   "source": [
    "Explanation: The condition temperature > 20 is True, so status is assigned the value \"Warm\"."
   ]
  },
  {
   "cell_type": "markdown",
   "id": "c5bc4b3a-8ae7-472a-a604-2fbbda4b5657",
   "metadata": {},
   "source": [
    "##### 6. Short-Circuit Evaluation\n",
    "\n",
    "In Python, logical operators (and, or) use short-circuit evaluation, meaning that evaluation stops as soon as the result is determined.\n",
    "\n",
    "Example:"
   ]
  },
  {
   "cell_type": "code",
   "execution_count": 55,
   "id": "74cf8686-3c99-4978-aa87-e232117a8a4b",
   "metadata": {},
   "outputs": [
    {
     "name": "stdout",
     "output_type": "stream",
     "text": [
      "At least one condition is true.\n"
     ]
    }
   ],
   "source": [
    "a = 5\n",
    "b = 10\n",
    "\n",
    "# Short-circuit evaluation: 'and' stops at the first False\n",
    "if a > 10 and b < 15:\n",
    "    print(\"Both conditions are true.\")\n",
    "\n",
    "# Short-circuit evaluation: 'or' stops at the first True\n",
    "if a > 10 or b < 15:\n",
    "    print(\"At least one condition is true.\")\n"
   ]
  },
  {
   "cell_type": "markdown",
   "id": "1b71efb8-5444-4cf8-a619-8f31c28e86c8",
   "metadata": {},
   "source": [
    "Explanation: In the first if statement, a > 10 is False, so b < 15 is not evaluated. In the second if statement, b < 15 is True, so a > 10 is not evaluated."
   ]
  },
  {
   "cell_type": "markdown",
   "id": "fef96962-047b-459d-a855-fc02a27ec335",
   "metadata": {},
   "source": [
    "#### Summary\n",
    "\n",
    "* if: Executes code if the condition is True.\n",
    "\n",
    "* elif: Checks additional conditions if previous conditions are False.\n",
    "\n",
    "* else: Executes code if none of the preceding conditions are True.\n",
    "\n",
    "* Nested Conditions: Allows complex decision-making by nesting if, elif, and else statements.\n",
    "\n",
    "* Conditional Expressions: Provides a compact way to assign values based on a condition.\n",
    "\n",
    "* Short-Circuit Evaluation: Logical operators can stop evaluating further conditions once the result is known.\n",
    "\n",
    "Understanding these conditional constructs allows you to create more flexible and powerful programs by controlling the flow of execution based on different scenarios."
   ]
  },
  {
   "cell_type": "markdown",
   "id": "3d464d22-2b22-47bf-bbd6-f6e6cbc34788",
   "metadata": {},
   "source": [
    "## 7. Describe the different types of loops in Python and their use cases with examples."
   ]
  },
  {
   "cell_type": "markdown",
   "id": "277b7729-16f3-4a24-97a6-1b3b355d56b5",
   "metadata": {},
   "source": [
    "In Python, loops are used to execute a block of code repeatedly based on certain conditions. There are primarily two types of loops in Python: the for loop and the while loop. Each type of loop serves different use cases and can be applied to a variety of scenarios. Here’s a detailed look at the different types of loops, their use cases, and examples:\n",
    "\n",
    "#### 1. for Loop\n",
    "\n",
    "The for loop in Python is used to iterate over a sequence (like a list, tuple, string, or range) and execute a block of code for each item in that sequence.\n",
    "\n",
    "Syntax:"
   ]
  },
  {
   "cell_type": "raw",
   "id": "8d9fef35-f16e-4f95-a8d2-c88b148564b0",
   "metadata": {},
   "source": [
    "for variable in sequence:\n",
    "    # code to execute\n"
   ]
  },
  {
   "cell_type": "markdown",
   "id": "9e140a0d-adf0-4efb-8c6d-c12ec13a1f3b",
   "metadata": {
    "tags": []
   },
   "source": [
    "##### Use Cases:\n",
    "\n",
    "* Iterating over elements of a list, tuple, or string.\n",
    "\n",
    "* Repeating operations a specific number of times using range().\n",
    "\n",
    "* Iterating over items in dictionaries.\n",
    "\n",
    "##### Examples:\n",
    "\n",
    "* Iterating over a List:"
   ]
  },
  {
   "cell_type": "code",
   "execution_count": 56,
   "id": "cd866cc8-e068-4c1b-bea2-54800aeee0a6",
   "metadata": {},
   "outputs": [
    {
     "name": "stdout",
     "output_type": "stream",
     "text": [
      "Grapes\n",
      "banana\n",
      "lichi\n"
     ]
    }
   ],
   "source": [
    "fruits = ['Grapes', 'banana', 'lichi']\n",
    "\n",
    "for fruit in fruits:\n",
    "    print(fruit)\n"
   ]
  },
  {
   "cell_type": "markdown",
   "id": "cf5880f7-c81a-4b9a-a8ad-dc5d288666f5",
   "metadata": {},
   "source": [
    "* Using range() to Repeat an Action:"
   ]
  },
  {
   "cell_type": "code",
   "execution_count": 57,
   "id": "761758cc-6f80-48a3-89da-23fdb422691b",
   "metadata": {},
   "outputs": [
    {
     "name": "stdout",
     "output_type": "stream",
     "text": [
      "0\n",
      "1\n",
      "2\n",
      "3\n",
      "4\n"
     ]
    }
   ],
   "source": [
    "for i in range(5):\n",
    "    print(i)\n"
   ]
  },
  {
   "cell_type": "markdown",
   "id": "64dd1018-0805-4f2b-8fc7-0dfbbef6e7bb",
   "metadata": {},
   "source": [
    "* Iterating over a Dictionary:"
   ]
  },
  {
   "cell_type": "code",
   "execution_count": 59,
   "id": "1dc9a5ce-295c-46ea-8458-a8295b6f6d59",
   "metadata": {},
   "outputs": [
    {
     "name": "stdout",
     "output_type": "stream",
     "text": [
      "name: Vijay\n",
      "age: 34\n",
      "city: Rewari\n"
     ]
    }
   ],
   "source": [
    "person = {'name': 'Vijay', 'age': 34, 'city': 'Rewari'}\n",
    "\n",
    "for key, value in person.items():\n",
    "    print(f\"{key}: {value}\")\n"
   ]
  },
  {
   "cell_type": "markdown",
   "id": "9fd630ef-f3ec-427b-beb5-617b0b469595",
   "metadata": {},
   "source": [
    "#### 2. while Loop\n",
    "\n",
    "The while loop in Python repeatedly executes a block of code as long as a given condition is True. It is used when the number of iterations is not known beforehand and depends on dynamic conditions.\n",
    "\n",
    "Syntax:"
   ]
  },
  {
   "cell_type": "raw",
   "id": "b955b391-894f-47cd-83db-08b968e18007",
   "metadata": {},
   "source": [
    "while condition:\n",
    "    # code to execute\n"
   ]
  },
  {
   "cell_type": "markdown",
   "id": "1d7d3346-9388-42d8-99f4-7cfda50aa894",
   "metadata": {},
   "source": [
    "##### Use Cases:\n",
    "\n",
    "* Repeating operations until a condition changes.\n",
    "\n",
    "* Handling situations where the number of iterations is not predetermined.\n",
    "\n",
    "* Waiting for an event to occur or a condition to be met.\n",
    "\n",
    "##### Examples:\n",
    "\n",
    "* Simple While Loop:"
   ]
  },
  {
   "cell_type": "code",
   "execution_count": 60,
   "id": "bb2cc351-6ebe-4751-a48b-479b15f3a9df",
   "metadata": {},
   "outputs": [
    {
     "name": "stdout",
     "output_type": "stream",
     "text": [
      "0\n",
      "1\n",
      "2\n",
      "3\n",
      "4\n"
     ]
    }
   ],
   "source": [
    "count = 0\n",
    "\n",
    "while count < 5:\n",
    "    print(count)\n",
    "    count += 1"
   ]
  },
  {
   "cell_type": "markdown",
   "id": "988e0349-9b5e-425c-b7fb-938850b7ff51",
   "metadata": {},
   "source": [
    "* Using break to Exit a Loop:"
   ]
  },
  {
   "cell_type": "code",
   "execution_count": null,
   "id": "c4b9131f-f1ba-4265-8d70-dd37b5c62fa3",
   "metadata": {},
   "outputs": [],
   "source": [
    "while True:\n",
    "    response = input(\"Type 'exit' to quit: \")\n",
    "    if response == 'exit':\n",
    "        break\n"
   ]
  },
  {
   "cell_type": "markdown",
   "id": "d0f65de4-c7b0-4b29-b508-be767b3327ed",
   "metadata": {},
   "source": [
    "Explanation: This loop continues indefinitely until the user types 'exit', which causes the break statement to exit the loop."
   ]
  },
  {
   "cell_type": "markdown",
   "id": "d56ce6d3-9fdd-40c3-a2de-4782e9a4e9db",
   "metadata": {},
   "source": [
    "* Using continue to Skip an Iteration:"
   ]
  },
  {
   "cell_type": "raw",
   "id": "824379e8-1c4d-4140-b0d1-351f59e6e1fe",
   "metadata": {},
   "source": [
    "count = 0\n",
    "\n",
    "while count < 10:\n",
    "    count += 1\n",
    "    if count % 2 == 0:\n",
    "        continue\n",
    "    print(count)"
   ]
  },
  {
   "cell_type": "markdown",
   "id": "80148526-bf75-4b7e-b905-de5bc6bd535d",
   "metadata": {},
   "source": [
    "#### 3. Nested Loops\n",
    "\n",
    "Loops can be nested within each other to handle complex scenarios. A loop inside another loop is known as a nested loop.\n",
    "\n",
    "Example:\n",
    "\n",
    "* Nested for Loops:"
   ]
  },
  {
   "cell_type": "raw",
   "id": "7b1b0df3-05f4-4ef8-93d6-d2aa44d877b8",
   "metadata": {},
   "source": [
    "for i in range(3):\n",
    "    for j in range(2):\n",
    "        print(f\"i = {i}, j = {j}\")\n"
   ]
  },
  {
   "cell_type": "markdown",
   "id": "463742a0-942c-430e-a698-42e4fbd2b85a",
   "metadata": {},
   "source": [
    "In summary, Python's loops are versatile and can be used for a variety of tasks such as iterating over sequences, repeating operations, and handling dynamic conditions. Understanding how and when to use each type of loop is crucial for writing efficient and effective Python code."
   ]
  },
  {
   "cell_type": "code",
   "execution_count": null,
   "id": "3574aa78-a884-401e-bd05-4b4a36b5f10b",
   "metadata": {},
   "outputs": [],
   "source": []
  }
 ],
 "metadata": {
  "kernelspec": {
   "display_name": "Python 3 (ipykernel)",
   "language": "python",
   "name": "python3"
  },
  "language_info": {
   "codemirror_mode": {
    "name": "ipython",
    "version": 3
   },
   "file_extension": ".py",
   "mimetype": "text/x-python",
   "name": "python",
   "nbconvert_exporter": "python",
   "pygments_lexer": "ipython3",
   "version": "3.10.8"
  }
 },
 "nbformat": 4,
 "nbformat_minor": 5
}
